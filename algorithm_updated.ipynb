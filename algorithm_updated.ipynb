{
  "nbformat": 4,
  "nbformat_minor": 0,
  "metadata": {
    "colab": {
      "provenance": [],
      "authorship_tag": "ABX9TyNx0xBwJSyCE16mbGXg2tKz",
      "include_colab_link": true
    },
    "kernelspec": {
      "name": "python3",
      "display_name": "Python 3"
    },
    "language_info": {
      "name": "python"
    }
  },
  "cells": [
    {
      "cell_type": "markdown",
      "metadata": {
        "id": "view-in-github",
        "colab_type": "text"
      },
      "source": [
        "<a href=\"https://colab.research.google.com/github/pratibha77118/23-Homework3G1/blob/Code_execution/algorithm_updated.ipynb\" target=\"_parent\"><img src=\"https://colab.research.google.com/assets/colab-badge.svg\" alt=\"Open In Colab\"/></a>"
      ]
    },
    {
      "cell_type": "code",
      "execution_count": 12,
      "metadata": {
        "colab": {
          "base_uri": "https://localhost:8080/"
        },
        "id": "o76ImH50C0YY",
        "outputId": "9ff0bbec-fa1f-4eef-d2cc-2dfc32975d42"
      },
      "outputs": [
        {
          "output_type": "stream",
          "name": "stdout",
          "text": [
            "Enter a list of lengths separated by commas: 0.5,1, 1.5, 2, 2.5,3\n",
            "[0, 1, 2, 2, 2, 3]\n",
            "Periodic times corresponding to the lengths are: [0.0, 2.01, 2.84, 2.84, 2.84, 3.47]\n"
          ]
        }
      ],
      "source": [
        "import math\n",
        "\n",
        "def calculate_periodic_time(l):\n",
        "    \"\"\"Calculates the periodic time of a simple pendulum.\n",
        "\n",
        "    Args:\n",
        "        l: The length of the pendulum in meters.\n",
        "\n",
        "    Returns:\n",
        "        The periodic time of the pendulum in seconds.\n",
        "    \"\"\"\n",
        "    # Acceleration due to gravity in meters per second squared.\n",
        "    g = 9.81\n",
        "    calculate_periodic_time= (lambda l: 2* math.pi/ math.sqrt(g / l))\n",
        "    return (lambda l: 2 * math.pi * math.sqrt(l / g))(l)\n",
        "\n",
        "# Prompt the user for a list input.\n",
        "lengths_list = input(\"Enter a list of lengths separated by commas: \")\n",
        "\n",
        "# Split the user input string into a list.\n",
        "lengths_list = lengths_list.split(\",\")\n",
        "\n",
        "# Convert the elements of the list to integers.\n",
        "integer_list = [int(round(float(element))) for element in lengths_list]\n",
        "\n",
        "# Print the integer list.\n",
        "print(integer_list)\n",
        "\n",
        "# Use map to apply the lambda function to each length in the list\n",
        "periodic_times = map(calculate_periodic_time, integer_list)\n",
        "\n",
        "# Print the periodic times and round them to 2 decimal places\n",
        "T = list(periodic_times)\n",
        "rounded_times = [round(element, 2) for element in T]\n",
        "print(\"Periodic times corresponding to the lengths are:\",rounded_times)\n"
      ]
    },
    {
      "cell_type": "code",
      "source": [],
      "metadata": {
        "id": "FAnHTW4VDC1p"
      },
      "execution_count": null,
      "outputs": []
    }
  ]
}