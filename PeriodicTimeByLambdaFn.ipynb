{
 "cells": [
  {
   "cell_type": "code",
   "execution_count": 1,
   "id": "1be0c447-760a-49bd-8c88-55f6a0ac2df0",
   "metadata": {
    "tags": []
   },
   "outputs": [
    {
     "name": "stdout",
     "output_type": "stream",
     "text": [
      "At t = 0.0, value = 0.0\n",
      "At t = 0.25, value = 1.2246467991473532e-16\n",
      "At t = 0.5, value = -2.4492935982947064e-16\n",
      "At t = 0.75, value = 3.6739403974420594e-16\n",
      "At t = 1.0, value = -4.898587196589413e-16\n"
     ]
    }
   ],
   "source": [
    "import math\n",
    "\n",
    "# Define the frequency (in Hz) and amplitude of the sine wave\n",
    "frequency = 2  # Hz\n",
    "amplitude = 1.0\n",
    "\n",
    "# Create a lambda function for the periodic time function\n",
    "periodic_function = lambda t: amplitude * math.sin(2 * math.pi * frequency * t)\n",
    "\n",
    "# Generate and print values of the periodic function at different time points\n",
    "time_points = [0.0, 0.25, 0.5, 0.75, 1.0]\n",
    "\n",
    "for t in time_points:\n",
    "    value = periodic_function(t)\n",
    "    print(f\"At t = {t}, value = {value}\")\n"
   ]
  },
  {
   "cell_type": "code",
   "execution_count": null,
   "id": "d5af5eac-0d58-4bd2-b3c2-f0197e328e3f",
   "metadata": {},
   "outputs": [],
   "source": []
  }
 ],
 "metadata": {
  "kernelspec": {
   "display_name": "Python 3 (ipykernel)",
   "language": "python",
   "name": "python3"
  },
  "language_info": {
   "codemirror_mode": {
    "name": "ipython",
    "version": 3
   },
   "file_extension": ".py",
   "mimetype": "text/x-python",
   "name": "python",
   "nbconvert_exporter": "python",
   "pygments_lexer": "ipython3",
   "version": "3.10.8"
  },
  "widgets": {
   "application/vnd.jupyter.widget-state+json": {
    "state": {},
    "version_major": 2,
    "version_minor": 0
   }
  }
 },
 "nbformat": 4,
 "nbformat_minor": 5
}
