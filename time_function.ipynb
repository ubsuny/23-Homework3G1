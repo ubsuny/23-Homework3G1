{
  "nbformat": 4,
  "nbformat_minor": 0,
  "metadata": {
    "colab": {
      "provenance": [],
      "authorship_tag": "ABX9TyN7kunLz90OSbyE30eveVtE",
      "include_colab_link": true
    },
    "kernelspec": {
      "name": "python3",
      "display_name": "Python 3"
    },
    "language_info": {
      "name": "python"
    }
  },
  "cells": [
    {
      "cell_type": "markdown",
      "metadata": {
        "id": "view-in-github",
        "colab_type": "text"
      },
      "source": [
        "<a href=\"https://colab.research.google.com/github/tirthbha/23-Homework3G1/blob/periodic_time_function_example/time_function.ipynb\" target=\"_parent\"><img src=\"https://colab.research.google.com/assets/colab-badge.svg\" alt=\"Open In Colab\"/></a>"
      ]
    },
    {
      "cell_type": "code",
      "execution_count": 5,
      "metadata": {
        "colab": {
          "base_uri": "https://localhost:8080/"
        },
        "id": "dqYsb0OoiuiA",
        "outputId": "c438f755-f4f0-446f-f69c-e592ad35ffc4"
      },
      "outputs": [
        {
          "output_type": "stream",
          "name": "stdout",
          "text": [
            "[0.0, 0.9510565162951535, 0.5877852522924732, -0.587785252292473, -0.9510565162951536]\n"
          ]
        }
      ],
      "source": [
        "import math\n",
        "\n",
        "def periodic_time_function(time, frequency, amplitude):\n",
        "    \"\"\"\n",
        "    Generate a periodic time function (sine wave).\n",
        "\n",
        "    :param time: The time value.\n",
        "    :param frequency: The frequency of the sine wave.\n",
        "    :param amplitude: The amplitude of the sine wave.\n",
        "    :return: The value of the sine wave at the given time.\n",
        "    \"\"\"\n",
        "    return amplitude * math.sin(2 * math.pi * frequency * time)\n",
        "def generate_wave(frequency, amplitude, time_values):\n",
        "    \"\"\"\n",
        "    Generate a wave (list of values) using the periodic_time_function.\n",
        "\n",
        "    :param frequency: The frequency of the sine wave.\n",
        "    :param amplitude: The amplitude of the sine wave.\n",
        "    :param time_values: A list of time values.\n",
        "    :return: A list of values representing the wave at the given time values.\n",
        "    \"\"\"\n",
        "    wave = map(lambda t: periodic_time_function(t, frequency, amplitude), time_values)\n",
        "    return list(wave)\n",
        "# Define the parameters\n",
        "frequency = 2.0  # Frequency of the sine wave\n",
        "amplitude = 1.0  # Amplitude of the sine wave\n",
        "time_values = [0.0, 0.1, 0.2, 0.3, 0.4]  # List of time values\n",
        "\n",
        "# Generate the wave using generate_wave\n",
        "wave_values = generate_wave(frequency, amplitude, time_values)\n",
        "\n",
        "# Print the result\n",
        "print(wave_values)\n",
        "\n"
      ]
    },
    {
      "cell_type": "code",
      "source": [],
      "metadata": {
        "id": "F82Z_1TBivJ5"
      },
      "execution_count": 6,
      "outputs": []
    }
  ]
}