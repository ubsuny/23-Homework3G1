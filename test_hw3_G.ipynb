{
  "nbformat": 4,
  "nbformat_minor": 0,
  "metadata": {
    "colab": {
      "provenance": [],
      "authorship_tag": "ABX9TyPdkRMhJMJRzv1649MxgkJ9",
      "include_colab_link": true
    },
    "kernelspec": {
      "name": "python3",
      "display_name": "Python 3"
    },
    "language_info": {
      "name": "python"
    }
  },
  "cells": [
    {
      "cell_type": "markdown",
      "metadata": {
        "id": "view-in-github",
        "colab_type": "text"
      },
      "source": [
        "<a href=\"https://colab.research.google.com/github/tirthbha/23-Homework3G1/blob/Task2_own_library/test_hw3_G.ipynb\" target=\"_parent\"><img src=\"https://colab.research.google.com/assets/colab-badge.svg\" alt=\"Open In Colab\"/></a>"
      ]
    },
    {
      "cell_type": "code",
      "source": [],
      "metadata": {
        "id": "QRD0jGwynqPI"
      },
      "execution_count": 8,
      "outputs": []
    },
    {
      "cell_type": "code",
      "execution_count": 5,
      "metadata": {
        "id": "NWYSCksJnh5f"
      },
      "outputs": [],
      "source": [
        "# pendulum_calculator.py\n",
        "import math\n",
        "\n",
        "def calculate_periodic_time(l):\n",
        "    \"\"\"Calculates the periodic time of a simple pendulum.\n",
        "\n",
        "    Args:\n",
        "        l: The length of the pendulum in meters.\n",
        "\n",
        "    Returns:\n",
        "        The periodic time of the pendulum in seconds.\n",
        "    \"\"\"\n",
        "    # Acceleration due to gravity in meters per second squared.\n",
        "    g = 9.81\n",
        "    return 2 * math.pi / math.sqrt(g / l)\n"
      ]
    },
    {
      "cell_type": "code",
      "source": [
        "%%writefile hw_pendulum_G1.py #save your above algorithm as a library with name hw_pendulum_G1.py"
      ],
      "metadata": {
        "colab": {
          "base_uri": "https://localhost:8080/"
        },
        "id": "fC43yEC5WsMV",
        "outputId": "ba832588-3225-41d5-f3ce-ca298d714da2"
      },
      "execution_count": 6,
      "outputs": [
        {
          "output_type": "stream",
          "name": "stdout",
          "text": [
            "Writing hw_pendulum_G1.py\n"
          ]
        }
      ]
    },
    {
      "cell_type": "code",
      "source": [
        "# Import the pendulum_calculator module\n",
        "import hw_pendulum_G1\n",
        "\n",
        "# Define a list of lengths of pendulums\n",
        "x = [0.5, 1, 1.5, 2, 2.5]\n",
        "\n",
        "# Calculate the periodic times for each length using the imported function\n",
        "periodic_times = [calculate_periodic_time(length) for length in x]\n",
        "\n",
        "# Print the periodic times and round them to 2 significant digits\n",
        "for i in range(len(x)):\n",
        "    print(\"Periodic time for l =\", x[i], \"m is\", round(periodic_times[i], ndigits=2), \"seconds\")\n"
      ],
      "metadata": {
        "colab": {
          "base_uri": "https://localhost:8080/"
        },
        "id": "-8-rWezWW-vk",
        "outputId": "332ae4aa-27cd-4299-d8bf-d97e349d6749"
      },
      "execution_count": 8,
      "outputs": [
        {
          "output_type": "stream",
          "name": "stdout",
          "text": [
            "Periodic time for l = 0.5 m is 1.42 seconds\n",
            "Periodic time for l = 1 m is 2.01 seconds\n",
            "Periodic time for l = 1.5 m is 2.46 seconds\n",
            "Periodic time for l = 2 m is 2.84 seconds\n",
            "Periodic time for l = 2.5 m is 3.17 seconds\n"
          ]
        }
      ]
    },
    {
      "cell_type": "code",
      "source": [],
      "metadata": {
        "id": "YAjI128CXKbC"
      },
      "execution_count": null,
      "outputs": []
    }
  ]
}